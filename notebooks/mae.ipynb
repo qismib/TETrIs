{
 "cells": [
  {
   "cell_type": "code",
   "execution_count": 37,
   "id": "21a59ec9-ff1b-4a43-9af0-216c17b9216d",
   "metadata": {},
   "outputs": [],
   "source": [
    "import numpy as np\n",
    "import matplotlib.pyplot as plt\n",
    "import scipy.linalg as la\n"
   ]
  },
  {
   "cell_type": "code",
   "execution_count": 25,
   "id": "ad241fe9-73db-431c-a977-6c0edcdd0411",
   "metadata": {},
   "outputs": [],
   "source": [
    "#valore assoluto medio\n",
    "def mae(array1, array2):\n",
    "    array1 = np.array(array1)\n",
    "    array2 = np.array(array2)\n",
    "    mae = np.mean(np.abs(array1 - array2))\n",
    "    return mae"
   ]
  },
  {
   "cell_type": "code",
   "execution_count": 26,
   "id": "0d12a08a-7c58-43da-82b8-e598ff48de07",
   "metadata": {},
   "outputs": [],
   "source": [
    "#valore assoluto medio percentuale\n",
    "def mae_perc(array1, array2):\n",
    "    array1 = np.array(array1)\n",
    "    array2 = np.array(array2)\n",
    "    mae = np.mean(np.abs(array1 - array2))\n",
    "    return mae*100"
   ]
  },
  {
   "cell_type": "code",
   "execution_count": 28,
   "id": "d851a543-3bb8-49c2-9572-0c8c8467ca42",
   "metadata": {},
   "outputs": [],
   "source": [
    "array_exact = [1.0, 0.744, 0.337, 0.224, 0.248, 0.161, 0.117, 0.214, 0.243, 0.238, 0.512, 0.993]"
   ]
  },
  {
   "cell_type": "code",
   "execution_count": 32,
   "id": "ff5754e0-7605-4308-b365-d1e71d531415",
   "metadata": {},
   "outputs": [
    {
     "name": "stdout",
     "output_type": "stream",
     "text": [
      "TRANSPILATION: 0.22691666666666666, 22.691666666666666%\n"
     ]
    }
   ],
   "source": [
    "array_transpilation = [1.005, 0.043, 0.095, 0.078, 0.109, 0.158, 0.337, 0.331, 0.321, 0.187, 0.221, 0.263]\n",
    "mae_transp = mae(array_exact, array_transpilation)\n",
    "mae_perc_transp = mae_perc(array_exact, array_transpilation)\n",
    "\n",
    "print(\"TRANSPILATION: \" + str(mae_transp) + \", \" + str(mae_perc_transp) + \"%\")"
   ]
  },
  {
   "cell_type": "code",
   "execution_count": 34,
   "id": "ecce037b-1be1-4a01-921f-6ca2224cfa47",
   "metadata": {},
   "outputs": [
    {
     "name": "stdout",
     "output_type": "stream",
     "text": [
      "NO TRANSPILATION + VL: 0.17816666666666667, 17.816666666666666%\n"
     ]
    }
   ],
   "source": [
    "array_notranspilationVL = [0.884, 0.593, 0.253, 0.167, 0.195, 0.328, 0.319, 0.253, 0.188, 0.164, 0.163, 0.202]\n",
    "mae_notranspVL = mae(array_exact, array_notranspilationVL)\n",
    "mae_perc_notranspVL = mae_perc(array_exact, array_notranspilationVL)\n",
    "\n",
    "print(\"NO TRANSPILATION + VL: \" + str(mae_notranspVL) + \", \" + str(mae_perc_notranspVL) + \"%\")"
   ]
  },
  {
   "cell_type": "code",
   "execution_count": 36,
   "id": "9aea69e7-84df-46b5-b72d-f1db5a89d8ee",
   "metadata": {},
   "outputs": [
    {
     "name": "stdout",
     "output_type": "stream",
     "text": [
      "TRANSPILATION + VL: 0.15908333333333333, 15.908333333333333%\n"
     ]
    }
   ],
   "source": [
    "array_transpilationVL = [0.999, 0.622, 0.239, 0.154, 0.149, 0.129, 0.213, 0.319, 0.211, 0.171, 0.160, 0.158]\n",
    "mae_transpVL = mae(array_exact, array_transpilationVL)\n",
    "mae_perc_transpVL = mae_perc(array_exact, array_transpilationVL)\n",
    "\n",
    "print(\"TRANSPILATION + VL: \" + str(mae_transpVL) + \", \" + str(mae_perc_transpVL) + \"%\")"
   ]
  },
  {
   "cell_type": "code",
   "execution_count": null,
   "id": "ee9b838a-7b36-4c93-9b44-6f50b4ef22e5",
   "metadata": {},
   "outputs": [],
   "source": [
    "[np.float64(1.0636017602805319), np.float64(0.36845858145781635), np.float64(0.32676772888397165), np.float64(0.15542387632226357), np.float64(0.2299702078385035), np.float64(0.019049333580060654), np.float64(0.150123196441741), np.float64(0.10615844360167499), np.float64(0.19271422259161344), np.float64(0.2318326069669665), np.float64(0.27062883242290037), np.float64(0.5032840446290506)]"
   ]
  },
  {
   "cell_type": "code",
   "execution_count": null,
   "id": "c6973db2-833d-43b8-80a6-edd810c9a922",
   "metadata": {},
   "outputs": [],
   "source": []
  }
 ],
 "metadata": {
  "kernelspec": {
   "display_name": "Python 3 (ipykernel)",
   "language": "python",
   "name": "python3"
  },
  "language_info": {
   "codemirror_mode": {
    "name": "ipython",
    "version": 3
   },
   "file_extension": ".py",
   "mimetype": "text/x-python",
   "name": "python",
   "nbconvert_exporter": "python",
   "pygments_lexer": "ipython3",
   "version": "3.12.7"
  }
 },
 "nbformat": 4,
 "nbformat_minor": 5
}
