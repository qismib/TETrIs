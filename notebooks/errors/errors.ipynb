{
 "cells": [
  {
   "cell_type": "code",
   "execution_count": 54,
   "id": "ac0610b5-b3a3-48fb-9c27-b845b213833c",
   "metadata": {},
   "outputs": [],
   "source": [
    "import numpy as np\n",
    "import matplotlib.pyplot as plt\n",
    "import scipy.linalg as la\n",
    "import math\n",
    "\n",
    "\n",
    "from qiskit import QuantumCircuit, transpile\n",
    "from qiskit.transpiler.preset_passmanagers import generate_preset_pass_manager\n",
    "from qiskit.visualization import plot_histogram\n",
    "from qiskit.quantum_info import SparsePauliOp, Statevector\n",
    "from qiskit.primitives import StatevectorEstimator, BackendEstimatorV2 as BackendEstimator, BackendSamplerV2 as BackendSampler, StatevectorEstimator\n",
    "from qiskit_ibm_runtime import QiskitRuntimeService\n"
   ]
  },
  {
   "cell_type": "code",
   "execution_count": 55,
   "id": "77cef4fc-5d62-4930-9628-989a2696d857",
   "metadata": {
    "jupyter": {
     "source_hidden": true
    }
   },
   "outputs": [],
   "source": [
    "#Rendiamo generale la funzione, prende N numero di Spin, t il tempo, j il primo spin e i il secondo spin (questi saranno j e j+1 in quanto nearest neighbours)\n",
    "def R_zz(N, t, j, i):\n",
    "    \n",
    "    ZZ_qc = QuantumCircuit(N)\n",
    "\n",
    "    ZZ_qc.cx(j,i)\n",
    "    ZZ_qc.rz(2 * t, i) #vedi definizione sopracitata per il fattore 2\n",
    "    ZZ_qc.cx(j,i)\n",
    "\n",
    "    return ZZ_qc\n",
    "\n",
    "#decomponiamo il Rot. Gate XX\n",
    "def R_xx(N, t, j, i):\n",
    "\n",
    "    XX_qc = QuantumCircuit(N)\n",
    "\n",
    "    XX_qc.ry(np.pi/2,[j,i])\n",
    "    XX_qc.cx(j,i)\n",
    "    XX_qc.rz(2 * t, i)\n",
    "    XX_qc.cx(j,i)\n",
    "    XX_qc.ry(-np.pi/2,[j,i])\n",
    "\n",
    "    return XX_qc\n",
    "\n",
    "#decomponiamo il Rot. Gate YY\n",
    "def R_yy(N, t, j, i):\n",
    "    YY_qc = QuantumCircuit(N)\n",
    "    \n",
    "    YY_qc.rx(np.pi/2,[j,i])\n",
    "    YY_qc.cx(j,i)\n",
    "    YY_qc.rz(2 * t, i)\n",
    "    YY_qc.cx(j,i)\n",
    "    YY_qc.rx(-np.pi/2,[j,i])\n",
    "\n",
    "    return YY_qc\n",
    "\n",
    "\n",
    "#definiamo l'hamiltoniana\n",
    "def H_Heis(N):\n",
    "    #usiamo J = 1\n",
    "    XX_tuples = [(\"XX\", [i, i + 1], 1) for i in range(0, N-1)]\n",
    "    YY_tuples = [(\"YY\", [i, i + 1], 1) for i in range(0, N-1)]\n",
    "    ZZ_tuples = [(\"ZZ\", [i, i + 1], 1) for i in range(0, N-1)]\n",
    "\n",
    "    #col metodo from_sparse_list di SparsePauliOp definiamo l'hamiltoniana\n",
    "    hamiltonian = SparsePauliOp.from_sparse_list([*XX_tuples, *YY_tuples, *ZZ_tuples], N)\n",
    "\n",
    "    return hamiltonian\n",
    "\n",
    "#definiamo l'evoluzione temporale nel caso classico\n",
    "def U_Heis(n_spins,t):\n",
    "    H = H_Heis(n_spins).to_matrix()\n",
    "    return la.expm(-1j*t*H)\n",
    "\n",
    "def Heisenberg_Trotter(num_spins, trotter_steps, t):\n",
    "    #definiamo un time step dt\n",
    "    dt = (t)/(trotter_steps) \n",
    "\n",
    "    #creiamo il quantumcircuit\n",
    "    qc_t = QuantumCircuit(num_spins)\n",
    "\n",
    "    #iteriamo su ogni time step\n",
    "    for i in range( int(trotter_steps) ):\n",
    "        #iteriamo su ogni spin\n",
    "        for j in range(0, num_spins -1):\n",
    "            #implementazione dei gate è uguale al caso precedente, in quanto operiamo su coppie di spin\n",
    "            qc_t = qc_t.compose(R_xx(num_spins,dt,j,j+1))\n",
    "            qc_t = qc_t.compose(R_yy(num_spins,dt,j,j+1))\n",
    "            qc_t = qc_t.compose(R_zz(num_spins,dt,j,j+1))\n",
    "\n",
    "        \n",
    "        #qc.barrier()\n",
    "\n",
    "    return qc_t"
   ]
  },
  {
   "cell_type": "markdown",
   "id": "a112ea8e-5fa9-45fb-b1c5-32fa24e4ff00",
   "metadata": {},
   "source": [
    "# FACCIAMO VARIARE IL NUMERO DI STEP TENENDO FISSO IL TEMPO A T = 1.5"
   ]
  },
  {
   "cell_type": "code",
   "execution_count": 56,
   "id": "d8c00f1f-6a9a-4ffd-9d6a-67ae8fe2ec8c",
   "metadata": {},
   "outputs": [],
   "source": [
    "t = 1.5 #circa metà dell'intervallo\n",
    "initial_state = Statevector.from_label('011').data\n",
    "exact_value = [np.abs((initial_state @ U_Heis(3,float(t)) @ initial_state))**2]"
   ]
  },
  {
   "cell_type": "code",
   "execution_count": 57,
   "id": "db641dc9-3de1-4cec-851f-4d590e6d3b1e",
   "metadata": {},
   "outputs": [],
   "source": [
    "#misuriamo |110><110|\n",
    "\n",
    "prj_zero = SparsePauliOp.from_list([(\"I\", 1/2), (\"Z\", 1/2)])\n",
    "prj_one = SparsePauliOp.from_list([(\"I\", 1/2), (\"Z\", -1/2)])\n",
    "prj = prj_one ^ prj_one ^ prj_zero\n",
    "\n",
    "\n",
    "trott_space = np.linspace(1, 15, 5) "
   ]
  },
  {
   "cell_type": "code",
   "execution_count": 58,
   "id": "d73060c2-e9ee-42a7-b84b-68e0ee18bb14",
   "metadata": {},
   "outputs": [
    {
     "name": "stdout",
     "output_type": "stream",
     "text": [
      "trotter steps variabili a t = 1.5 completato\n"
     ]
    }
   ],
   "source": [
    "#facciamo andare il circuito con 12 trotter step senza error mitigation\n",
    "value_fixedtime = []\n",
    "\n",
    "pm = generate_preset_pass_manager(optimization_level=0)\n",
    "\n",
    "for trotter_steps in trott_space:\n",
    "    qc = QuantumCircuit(3)\n",
    "    #buildiamo lo stato \"110\"\n",
    "    qc.x(1)\n",
    "    qc.x(2)\n",
    "        \n",
    "    trott_steps = Heisenberg_Trotter(num_spins=3,trotter_steps=trotter_steps,t=1.5)\n",
    "    qc = qc.compose(trott_steps)\n",
    "    \n",
    "    isa_circuit = pm.run(qc)\n",
    "    isa_observable = prj.apply_layout(isa_circuit.layout)\n",
    "    estimator       = StatevectorEstimator()\n",
    "    trotter_result = estimator.run([(isa_circuit, isa_observable)]).result()\n",
    "    trotter_value = trotter_result[0].data.evs\n",
    "    approx_value = trotter_value.mean().real\n",
    "\n",
    "    delta = np.abs(exact_value - approx_value)/(exact_value)\n",
    "    value_fixedtime.append(delta)\n",
    "\n",
    "    \n",
    "print(\"trotter steps variabili a t = 1.5 completato\")"
   ]
  },
  {
   "cell_type": "code",
   "execution_count": 63,
   "id": "d06cae99-631f-4905-b469-f3ac831ebf2f",
   "metadata": {},
   "outputs": [
    {
     "data": {
      "image/png": "[encoded data removed]",
      "text/plain": [
       "<Figure size 640x480 with 1 Axes>"
      ]
     },
     "metadata": {},
     "output_type": "display_data"
    }
   ],
   "source": [
    "plt.plot(trott_space, value_fixedtime,'v', color=\"orange\", )\n",
    "\n",
    "plt.xlabel('trotter step')\n",
    "plt.ylabel(r'errore relativo')\n",
    "plt.title(r'Andamento errore relativo per numero di trotter steps variabili')\n",
    "\n",
    "plt.grid()\n",
    "plt.savefig('../../png/errors/trotter_steps.png')\n",
    "plt.show()"
   ]
  },
  {
   "cell_type": "markdown",
   "id": "5f521ff3-3581-43e8-8d68-6342771d5a46",
   "metadata": {},
   "source": [
    "# FACCIAMO VARIARE IL TEMPO TENENDO FISSO A 12 IL NUMERO DI TROTTER STEPS\n"
   ]
  },
  {
   "cell_type": "code",
   "execution_count": 60,
   "id": "bd3efddc-1a9b-4cb4-995f-9458bd23509a",
   "metadata": {},
   "outputs": [],
   "source": [
    "t_space = np.linspace(0.1, np.pi, 10)"
   ]
  },
  {
   "cell_type": "code",
   "execution_count": 61,
   "id": "177be15b-128a-4b3d-9feb-8bc4bdff471f",
   "metadata": {},
   "outputs": [
    {
     "name": "stdout",
     "output_type": "stream",
     "text": [
      "0.1 completato\n",
      "0.43795473928775475 completato\n",
      "0.7759094785755095 completato\n",
      "1.1138642178632643 completato\n",
      "1.4518189571510192 completato\n",
      "1.789773696438774 completato\n",
      "2.1277284357265285 completato\n",
      "2.4656831750142834 completato\n",
      "2.8036379143020382 completato\n",
      "3.141592653589793 completato\n",
      "tempo variabile a 12 step completato\n"
     ]
    }
   ],
   "source": [
    "value_fixedtrotter = []\n",
    "#time_pm = generate_preset_pass_manager(optimization_level=0)\n",
    "\n",
    "for t in t_space:\n",
    "    qc = QuantumCircuit(3)\n",
    "    #buildiamo lo stato \"110\"\n",
    "    qc.x(1)\n",
    "    qc.x(2)\n",
    "        \n",
    "    trott_steps = Heisenberg_Trotter(num_spins=3,trotter_steps=12,t=t)\n",
    "    qc = qc.compose(trott_steps)\n",
    "    \n",
    "    exact_estimator = StatevectorEstimator()\n",
    "    trotter_result = exact_estimator.run([(qc, prj)]).result()\n",
    "    trotter_value = trotter_result[0].data.evs\n",
    "    approx_value = trotter_value.mean().real\n",
    "\n",
    "    exact_value = [np.abs((initial_state @ U_Heis(3,float(t)) @ initial_state))**2]\n",
    "    delta = np.abs(exact_value - approx_value)\n",
    "    value_fixedtrotter.append(delta)\n",
    "\n",
    "    print(str(t) + \" completato\" )\n",
    "    \n",
    "print(\"tempo variabile a 12 step completato\")"
   ]
  },
  {
   "cell_type": "code",
   "execution_count": 62,
   "id": "4ae1f25c-d5a3-4872-8860-a483a74769b2",
   "metadata": {},
   "outputs": [
    {
     "data": {
      "image/png": "[encoded data removed]",
      "text/plain": [
       "<Figure size 640x480 with 1 Axes>"
      ]
     },
     "metadata": {},
     "output_type": "display_data"
    }
   ],
   "source": [
    "plt.plot(t_space, value_fixedtrotter,'v', color=\"orange\", )\n",
    "\n",
    "plt.xlabel('log. time')\n",
    "plt.xscale(\"log\")\n",
    "plt.yscale(\"log\")\n",
    "plt.ylabel(r'log. errore relativo')\n",
    "plt.title(r'Andamento errore relativo per tempo variabile')\n",
    "\n",
    "plt.grid()\n",
    "plt.savefig('../../png/errors/time.png')\n",
    "plt.show()"
   ]
  },
  {
   "cell_type": "code",
   "execution_count": null,
   "id": "d79dbc06-18fc-4008-bf62-4a4d8e48bc14",
   "metadata": {},
   "outputs": [],
   "source": []
  }
 ],
 "metadata": {
  "kernelspec": {
   "display_name": "Python 3 (ipykernel)",
   "language": "python",
   "name": "python3"
  },
  "language_info": {
   "codemirror_mode": {
    "name": "ipython",
    "version": 3
   },
   "file_extension": ".py",
   "mimetype": "text/x-python",
   "name": "python",
   "nbconvert_exporter": "python",
   "pygments_lexer": "ipython3",
   "version": "3.12.7"
  }
 },
 "nbformat": 4,
 "nbformat_minor": 5
}
